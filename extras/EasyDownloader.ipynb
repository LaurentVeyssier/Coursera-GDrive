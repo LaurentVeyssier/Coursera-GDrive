{
 "cells": [
  {
   "cell_type": "markdown",
   "metadata": {
    "colab_type": "text",
    "id": "6uzOSd8Q6i0M"
   },
   "source": [
    "\n",
    "# Installing\n",
    "<hr>\n",
    "\n",
    "Run this block to install the coursera-GDrive package.\n"
   ]
  },
  {
   "cell_type": "code",
   "execution_count": 0,
   "metadata": {
    "colab": {},
    "colab_type": "code",
    "id": "4OrGweGL6GYh"
   },
   "outputs": [],
   "source": [
    "pip install coursera-GDrive"
   ]
  },
  {
   "cell_type": "markdown",
   "metadata": {
    "colab_type": "text",
    "id": "3HcK_txr7jQf"
   },
   "source": [
    "<hr>\n",
    "\n",
    "# Initializing\n",
    "\n",
    "<hr>\n",
    "\n",
    "Initialize the downloader object with default save folder **(COURSERA)**.\n",
    "\n",
    "If you want to change the save folder, you can replace **CourseraDownloader()** with **CourseraDownloader(\"folder_name\")**.\n",
    "\n",
    "```\n",
    "downloader = CourseraDownloader(\"MyCourseras\")\n",
    "```\n",
    "<hr>"
   ]
  },
  {
   "cell_type": "code",
   "execution_count": 0,
   "metadata": {
    "colab": {},
    "colab_type": "code",
    "id": "BAvEI2HB8sMg"
   },
   "outputs": [],
   "source": [
    "from coursera_gdrive import CourseraDownloader # Import downloader class.\n",
    "\n",
    "downloader = CourseraDownloader()"
   ]
  },
  {
   "cell_type": "markdown",
   "metadata": {
    "colab_type": "text",
    "id": "KKWRS_V38wj_"
   },
   "source": [
    "<hr>\n",
    "\n",
    "# Authentication and Authorization\n",
    "\n",
    "<hr>\n",
    "\n",
    "\n",
    "Before we go any further, we must authenticate ourselves first. For that purpose, we need to CAUTH token which is using for one of the main authentication method by Coursera.\n",
    "\n",
    "### How to find your Coursera CAUTH token by using your browser?\n",
    "\n",
    "1. First login to 'coursera.org' in your web browser :  \n",
    "2. For example, in chrome, Go to settings\n",
    "3. Advanced\n",
    "4. Privacy and Security\n",
    "5. Site Settings\n",
    "6. Cookies and Site Data\n",
    "7. See all cookies and site data\n",
    "8. coursera.org -> **CAUTH**\n",
    "9. Copy the content and Paste to **`<cauth-token>`**"
   ]
  },
  {
   "cell_type": "code",
   "execution_count": 0,
   "metadata": {
    "colab": {},
    "colab_type": "code",
    "id": "8SSkwjg_-6Qp"
   },
   "outputs": [],
   "source": [
    "cauth = \"<cauth-token>\" \n",
    "# Enter your CAUTH Token here.\n",
    "\n",
    "downloader.login(cauth)"
   ]
  },
  {
   "cell_type": "markdown",
   "metadata": {
    "colab_type": "text",
    "id": "HI1p3l8O_1mh"
   },
   "source": [
    "<hr>\n",
    "\n",
    "# Courses Lists\n",
    "\n",
    "<hr>\n",
    "\n",
    "Last one step before download, if you want to see some useful list of courses, you should read this section.\n",
    "### How to see all enrolled Courses?"
   ]
  },
  {
   "cell_type": "code",
   "execution_count": 0,
   "metadata": {
    "colab": {},
    "colab_type": "code",
    "id": "HXJjH8ha6hZ3"
   },
   "outputs": [],
   "source": [
    "downloader.printEnrolledCourses() "
   ]
  },
  {
   "cell_type": "markdown",
   "metadata": {
    "colab_type": "text",
    "id": "O8jTWMNrALRj"
   },
   "source": [
    "### How to see all available courses in Coursera?"
   ]
  },
  {
   "cell_type": "code",
   "execution_count": 0,
   "metadata": {
    "colab": {},
    "colab_type": "code",
    "id": "OgABSc9u7SW2"
   },
   "outputs": [],
   "source": [
    "downloader.printAllCourses() "
   ]
  },
  {
   "cell_type": "markdown",
   "metadata": {
    "colab_type": "text",
    "id": "J8HlLhUHA62Q"
   },
   "source": [
    "<hr>\n",
    "\n",
    "# Downloading the Courses\n",
    "\n",
    "<hr>\n",
    "\n",
    "### How to set subtitle languages before you start the download?\n",
    "There is a new method to do that \"setSubtitles\". Default subtitle languages is \"all\". If you do not use this method, downloader will download all the available subtitle languages.\n",
    "\n",
    "- #### Set 1 subtitle language.\n",
    "\n",
    "\t```\n",
    "\tdownloader.setSubtitles(\"<language-tag>\") \n",
    "\n",
    "\t# Example:\n",
    "\tdownloader.setSubtitles(\"fr\") \n",
    "\n",
    "\t# If subtitles is available in French, downloader will download it.\n",
    "\t# If the entered language is not available, then it will try to download alternative subtitle language (Default alternative language is English).\n",
    "\t```\n",
    "    \n",
    "- #### How to know the language tag of my language?\n",
    "\t\tThere is a method to help you. \"showLanguages\"\n",
    "\t```\n",
    "\tdownloader.showLanguages()\n",
    "\n",
    "\t# Gives the list of 2 character language codes of some widely used languages.\n",
    "\t# There may be other codes that is used in Coursera.\n",
    "\t# To learn more, https://en.wikipedia.org/wiki/List_of_ISO_639-1_codes\n",
    "\t```\n",
    "    \n",
    "- #### Set multiple subtitle languages.\n",
    "\n",
    "\t```\n",
    "\tdownloader.setSubtitles(\"<language-tag1>\",\"<language-tag2\">,...)\n",
    "\n",
    "\t# Example:\n",
    "\tdownloader.setSubtitles(\"fr\",\"de\",\"tr\") \n",
    "\n",
    "\t# If subtitles is available in French, German and Turkish, downloader will download them all.\n",
    "\t# If any or all entered language is not available, then it will try to download alternative subtitle language (Default alternative language is English).\n",
    "\t```\n",
    "\n",
    "- #### Set alternative language and change default common alternative language.\n",
    "\n",
    "\t```\n",
    "\tdownloader.setSubtitles(\"<language-tag>|<alt-lang-tag>\") \n",
    "\n",
    "\t# Example:\n",
    "\tdownloader.setSubtitles(\"fr|de\")\n",
    "\tdownloader.setSubtitles(\"fr|de\",\"tr|it\",\"az\") # Multiple Subtitles\n",
    "\t\n",
    "\t# If subtitles is available in French, downloader will download it. Else it will try to download subtitles in German. Furthermore, if the alternative language is not also available, it will try to download English subtitles.\n",
    "\t```\n",
    "    \n",
    "- #### If you don't want to state alternative languages for each subtitle one by one, you can use the commonAlternative keyword argument (Default : English). \n",
    "\t```\n",
    "\tdownloader.set(downloader.setSubtitles(\"<language-tag>\", commonAlternative = \"<language-tag>\") \n",
    "\tdownloader.setSubtitles(\"<language-tag1>\",\"<language-tag2\">,..., commonAlternative = \"<language-tag>\")\n",
    "\t\n",
    "\t# Example:\n",
    "\tdownloader.setSubtitles(\"fr\", commonAlternative = \"de\") \n",
    "\tdownloader.setSubtitles(\"fr\",\"de\",\"tr|en\" , commonAlternative = \"it\")\n",
    "\t```\n",
    "\n",
    "\n",
    "### How to download all of my enrolled course?\n",
    "It's very straight forward. Just call the download method.\n",
    "```\n",
    "downloader.download()\n",
    "# Downloads all enrolled courses.\n",
    "```\n",
    "### How to download just one course?\n",
    "Make sure that the class name you are using corresponds to the resource name used in the URL for that class:\n",
    "\n",
    "`https://www.coursera.org/learn/<course-name>/home/welcome`\n",
    "\t \n",
    "**Example:**\n",
    "\n",
    "`https://www.coursera.org/learn/`**algorithmic-toolbox**`/home/welcome`\n",
    "\n",
    "```\n",
    "downloader.download(\"<course-name>\") \n",
    "# Downloads just <course-name>.\n",
    "\n",
    "# Example:\n",
    "# downloader.download(\"algorithmic-toolbox\")\n",
    "```\n",
    "### How to download one or more course?\n",
    "\n",
    "There are several methods to download multiple courses easily.\n",
    "-  Multiple Course String Argument\n",
    "\n",
    "```\n",
    "downloader.download(\"<course1>\",\"<course2>\",\"<course3>\",...) \n",
    "# Downloads all the given courses.\n",
    "\n",
    "# Example:\n",
    "# downloader.download(\"algorithmic-toolbox\",\"crypto\",\"iot\",\"python-ar\")\n",
    "```\n",
    "\n",
    "-  Python List Argument\n",
    "\n",
    "```\n",
    "course_list = [\"<course1>\",\"<course2>\",\"<course3>\",...]\n",
    "downloader.download(course_list) \n",
    "# Downloads all courses in python list.\n",
    "\n",
    "# Example:\n",
    "# course_list = [\"algorithmic-toolbox\",\"crypto\",\"iot\",\"python-ar\"]\n",
    "# downloader.download(course_list)\n",
    "```\n",
    "-  Passing a text file as an argument\n",
    "Make sure that,\n",
    "\t1. Course names in text file are separated by a newline.\n",
    "\t2. Text file is in the save folder. ( Default: COURSERA )\n",
    "\n",
    "```\n",
    "downloader.download(\"<courselist.txt>\") \n",
    "# Downloads all courses in text file.\n",
    "\n",
    "# Example:\n",
    "# downloader.download(\"course_list.txt\")\n",
    "```\n",
    "\n",
    "- Passing mixed arguments\n",
    "\n",
    "```\n",
    "course_list = [\"<course-x>\",\"<course-y>\",\"<course-z>\",...]\n",
    "downloader.download(\"<course1>\",\"<course2>\",\"<course3>\",\"<courselist.txt>\",course_list) \n",
    "# Downloads all the given courses, courses in text file and courses in python list.\n",
    "```"
   ]
  },
  {
   "cell_type": "code",
   "execution_count": 0,
   "metadata": {
    "colab": {},
    "colab_type": "code",
    "id": "6GNMHnC0BPRO"
   },
   "outputs": [],
   "source": [
    "downloader.download() # Download all enrolled courses."
   ]
  }
 ],
 "metadata": {
  "colab": {
   "collapsed_sections": [],
   "name": "EasyDownloader.ipynb",
   "provenance": []
  },
  "kernelspec": {
   "display_name": "Python 3",
   "language": "python",
   "name": "python3"
  },
  "language_info": {
   "codemirror_mode": {
    "name": "ipython",
    "version": 3
   },
   "file_extension": ".py",
   "mimetype": "text/x-python",
   "name": "python",
   "nbconvert_exporter": "python",
   "pygments_lexer": "ipython3",
   "version": "3.7.3"
  }
 },
 "nbformat": 4,
 "nbformat_minor": 1
}
